{
 "cells": [
  {
   "cell_type": "markdown",
   "metadata": {},
   "source": [
    "<img style=\"float: left; margin: 30px 15px 15px 15px;\" src=\"https://pngimage.net/wp-content/uploads/2018/06/logo-iteso-png-5.png\" width=\"300\" height=\"500\" /> \n",
    "    \n",
    "    \n",
    "### <font color='navy'> Simulación de procesos financieros. \n",
    "\n",
    "**Nombres:** Ana Esmeralda Rodríguez Rodríguez, Pablo Humberto Muñoz Cuevas.\n",
    "\n",
    "**Fecha:** 8 de julio del 2021.\n",
    "\n",
    "**Expediente** : 709288, 719963.\n",
    "\n",
    "**Profesor:** Oscar David Jaramillo Zuluaga.\n",
    "    \n",
    "**Link Github**: [Link con el enlace del repositorio del creador del proyecto](https://github.com/anarodriguezrod/Tarea8_ARodriguez_PMu-oz)\n",
    "\n",
    "# Tarea 8: Clase 14"
   ]
  },
  {
   "cell_type": "markdown",
   "metadata": {},
   "source": [
    "![image.png](attachment:image.png)\n",
    "Además use el método de estratificación donde se divide en B estratos, visto la clase pasada y compare el resultado con los métodos anteriores cuando se toman $2,4,6,10$ estratos respectivamente, concluya."
   ]
  },
  {
   "cell_type": "code",
   "execution_count": 2,
   "metadata": {},
   "outputs": [],
   "source": [
    "import numpy as np\n",
    "from functools import reduce\n",
    "import time\n",
    "import matplotlib.pyplot as plt\n",
    "import scipy.stats as st     # Librería estadística\n",
    "import pandas as pd\n",
    "from scipy import optimize"
   ]
  },
  {
   "cell_type": "markdown",
   "metadata": {},
   "source": [
    "#### Ejercicio: Ana Rodríguez"
   ]
  },
  {
   "cell_type": "code",
   "execution_count": 4,
   "metadata": {},
   "outputs": [
    {
     "name": "stdout",
     "output_type": "stream",
     "text": [
      "Media usando montecarlo crudo= 0.1233104625954728\n",
      "Media usando montecarlo estratificado= 0.014351496983725842\n",
      "Media de observaciones usando el metodo de numeros complementarios =  5.551115123125783e-18\n"
     ]
    }
   ],
   "source": [
    "np.random.seed(556)\n",
    "N = 10\n",
    "# Programar función h(x)\n",
    "h = lambda x: ((3/2)*x**2) if -1 <= x <= 1 else 0\n",
    "fun_inv = lambda u: np.cbrt(1-2*u) if 0<u<1 else np.cbrt(2*u-1)\n",
    "\n",
    "# A) MONTECARLO CRUDO\n",
    "u1 = np.random.uniform(0,1,N)\n",
    "monte_crudo = np.mean(list(map(fun_inv, u1))) #evalua h en todos los numeros u1\n",
    "print('Media usando montecarlo crudo=',monte_crudo)\n",
    "\n",
    "# B) MONTECARLO ESTRATIFICADO\n",
    "# Estratos\n",
    "r1 = np.random.uniform(0, 0.6, 3)\n",
    "r2 = np.random.uniform(0.6, 0.9, 3)\n",
    "r3 = np.random.uniform(0.9, 1, 4)\n",
    "r = [r1, r2, r3]\n",
    "w = [((3/10)/(0.6-0)), ((3/10)/(0.9-0.6)), ((4/10)/(1-0.9))] #pesos\n",
    "\n",
    "xi = [np.array([fun_inv(i)for i in vi]) for vi in r]\n",
    "muestras = np.concatenate(list(map(lambda u,wi: u/wi ,xi, w)))\n",
    "\n",
    "print('Media usando montecarlo estratificado=',muestras.mean())\n",
    "\n",
    "# C) NUMEROS COMPLEMENTARIOS \n",
    "ri = np.random.rand(N)\n",
    "# Números aleatorios complementarios\n",
    "ri_c = np.random.rand(int(N/2))\n",
    "xi_c = 1 - ri_c\n",
    "# Media de observaciones complementarias\n",
    "m_comple = np.mean(list(map(fun_inv, np.concatenate([ri_c, xi_c]))))\n",
    "print('Media de observaciones usando el metodo de numeros complementarios = ', m_comple)"
   ]
  },
  {
   "cell_type": "code",
   "execution_count": null,
   "metadata": {},
   "outputs": [],
   "source": []
  }
 ],
 "metadata": {
  "kernelspec": {
   "display_name": "Python 3",
   "language": "python",
   "name": "python3"
  },
  "language_info": {
   "codemirror_mode": {
    "name": "ipython",
    "version": 3
   },
   "file_extension": ".py",
   "mimetype": "text/x-python",
   "name": "python",
   "nbconvert_exporter": "python",
   "pygments_lexer": "ipython3",
   "version": "3.7.4"
  }
 },
 "nbformat": 4,
 "nbformat_minor": 2
}
