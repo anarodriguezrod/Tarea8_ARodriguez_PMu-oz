{
 "cells": [
  {
   "cell_type": "markdown",
   "metadata": {},
   "source": [
    "<img style=\"float: left; margin: 30px 15px 15px 15px;\" src=\"https://pngimage.net/wp-content/uploads/2018/06/logo-iteso-png-5.png\" width=\"300\" height=\"500\" /> \n",
    "    \n",
    "    \n",
    "### <font color='navy'> Simulación de procesos financieros. \n",
    "\n",
    "**Nombres:** Ana Esmeralda Rodríguez Rodríguez, Pablo Humberto Muñoz Cuevas.\n",
    "\n",
    "**Fecha:** 8 de julio del 2021.\n",
    "\n",
    "**Expediente** : 709288, 719963.\n",
    "\n",
    "**Profesor:** Oscar David Jaramillo Zuluaga.\n",
    "    \n",
    "**Link Github**: [Link con el enlace del repositorio del creador del proyecto](https://github.com/anarodriguezrod/Tarea8_ARodriguez_PMu-oz)\n",
    "\n",
    "# Tarea 8: Clase 14"
   ]
  },
  {
   "cell_type": "markdown",
   "metadata": {},
   "source": [
    "![image.png](attachment:image.png)\n",
    "Además use el método de estratificación donde se divide en B estratos, visto la clase pasada y compare el resultado con los métodos anteriores cuando se toman $2,4,6,10$ estratos respectivamente, concluya."
   ]
  },
  {
   "cell_type": "code",
   "execution_count": 2,
   "metadata": {},
   "outputs": [],
   "source": [
    "import numpy as np\n",
    "from functools import reduce\n",
    "import time\n",
    "import matplotlib.pyplot as plt\n",
    "import scipy.stats as st     # Librería estadística\n",
    "import pandas as pd\n",
    "from scipy import optimize"
   ]
  },
  {
   "cell_type": "markdown",
   "metadata": {},
   "source": [
    "#### Ejercicio: Ana Rodríguez"
   ]
  },
  {
   "cell_type": "markdown",
   "metadata": {},
   "source": [
    "$$F(x)=\\int_{-1}^{x}\\frac{3}{2}y^2\\text{d}y=\\left.\\frac{y^3}{2}\\right|_{y=-1}^{y=x}=\\frac{x^3}{2}-\\frac{(-1)^3}{2}$$\n",
    "\n",
    "$$ U = \\frac{x^3}{2}+\\frac{1}{2}$$\n",
    "\n",
    " $$ U - \\frac{1}{2} = \\frac{x^3}{2}$$\n",
    "\n",
    " $$ 2(U - \\frac{1}{2}) = x^3 $$\n",
    "\n",
    " $$ x = \\sqrt[3]{2(U - \\frac{1}{2})}$$"
   ]
  },
  {
   "cell_type": "code",
   "execution_count": 7,
   "metadata": {},
   "outputs": [
    {
     "name": "stdout",
     "output_type": "stream",
     "text": [
      "Media usando montecarlo crudo= 0.1233104625954728\n",
      "Media usando montecarlo estratificado= 0.014351496983725842\n",
      "Media de observaciones usando el metodo de numeros complementarios =  5.551115123125783e-18\n"
     ]
    }
   ],
   "source": [
    "np.random.seed(556)\n",
    "N = 10\n",
    "# Programar función h(x)\n",
    "h = lambda x: ((3/2)*x**2) if -1 <= x <= 1 else 0\n",
    "fun_inv = lambda u: np.cbrt(1-2*u) if 0<u<1 else np.cbrt(2*u-1)\n",
    "\n",
    "# A) MONTECARLO CRUDO\n",
    "u1 = np.random.uniform(0,1,N)\n",
    "monte_crudo = np.mean(list(map(fun_inv, u1))) #evalua h en todos los numeros u1\n",
    "print('Media usando montecarlo crudo=',monte_crudo)\n",
    "\n",
    "# B) MONTECARLO ESTRATIFICADO\n",
    "# Estratos\n",
    "r1 = np.random.uniform(0, 0.6, 3)\n",
    "r2 = np.random.uniform(0.6, 0.9, 3)\n",
    "r3 = np.random.uniform(0.9, 1, 4)\n",
    "r = [r1, r2, r3]\n",
    "w = [((3/10)/(0.6-0)), ((3/10)/(0.9-0.6)), ((4/10)/(1-0.9))] #pesos\n",
    "\n",
    "xi = [np.array([fun_inv(i)for i in vi]) for vi in r]\n",
    "muestras = np.concatenate(list(map(lambda u,wi: u/wi ,xi, w)))\n",
    "\n",
    "print('Media usando montecarlo estratificado=',muestras.mean())\n",
    "\n",
    "# C) NUMEROS COMPLEMENTARIOS \n",
    "ri = np.random.rand(N)\n",
    "# Números aleatorios complementarios\n",
    "ri_c = np.random.rand(int(N/2))\n",
    "xi_c = 1 - ri_c\n",
    "# Media de observaciones complementarias\n",
    "m_comple = np.mean(list(map(fun_inv, np.concatenate([ri_c, xi_c]))))\n",
    "print('Media de observaciones usando el metodo de numeros complementarios = ', m_comple)"
   ]
  },
  {
   "cell_type": "markdown",
   "metadata": {},
   "source": [
    "Analíticamente descubrimos que la media real es igual a 0, por lo tanto el mejor método es el de los numeros complementarios."
   ]
  },
  {
   "cell_type": "markdown",
   "metadata": {},
   "source": [
    "#### Ejercicio: Pablo Muñoz"
   ]
  },
  {
   "cell_type": "markdown",
   "metadata": {},
   "source": [
    " $$ f(x) = \\frac{3}{2}F(x) = \\int_{-1}^x \\frac{3}{2}y^2dyF(x) = \\frac{x^3 + 1}{2} U = \\frac{x^3 + 1}{2}x = \\sqrt[3]{2U -1} $$"
   ]
  },
  {
   "cell_type": "code",
   "execution_count": 2,
   "metadata": {},
   "outputs": [],
   "source": [
    "import numpy as np\n",
    "import pandas as pd\n",
    "import matplotlib.pyplot as plt"
   ]
  },
  {
   "cell_type": "code",
   "execution_count": 3,
   "metadata": {},
   "outputs": [
    {
     "name": "stdout",
     "output_type": "stream",
     "text": [
      "a) Utilizando montecarlo crudo la media es de: 0.2559219233254071\n"
     ]
    }
   ],
   "source": [
    "N=10\n",
    "np.random.seed(717)\n",
    "u = np.random.rand(N)\n",
    "x = np.arange(-1,1,0.01)\n",
    "\n",
    "f = lambda x: 3/2*x**2 #if -1<= x <= 1 else 0\n",
    "F_inv = lambda u: (2*u-1)**(1/3) if u>=.5 else  -(-2*u+1)**(1/3)\n",
    "\n",
    "a = list(map(F_inv,u))\n",
    "\n",
    "#plt.plot(x,f(x))\n",
    "#plt.hist(a,100,density = True);  # graficar con un valor de N más grande\n",
    "\n",
    "print('a) Utilizando montecarlo crudo la media es de:', np.array(a).mean())"
   ]
  },
  {
   "cell_type": "code",
   "execution_count": 4,
   "metadata": {},
   "outputs": [
    {
     "name": "stdout",
     "output_type": "stream",
     "text": [
      "b) Utilizando muestreo estratificado la media es de: -0.05362245707163913\n"
     ]
    }
   ],
   "source": [
    "# Estratificado\n",
    "np.random.seed(717)\n",
    "u1 = np.random.uniform(0, 0.6, 3)\n",
    "u2 = np.random.uniform(0.6, 0.9, 3)\n",
    "u3 = np.random.uniform(0.9, 1, 4)\n",
    "U = [u1, u2, u3]\n",
    "\n",
    "#Encontrar ponderación \n",
    "total =  3+3+4\n",
    "w1 = 3/total/.6\n",
    "w2 = 3/total/.3\n",
    "w3 = 4/total/.1\n",
    "w = [w1,w2,w3]\n",
    " \n",
    "\n",
    "# Iterar para evaluar los valores de U en la funcion\n",
    "m = list(map(lambda x: np.array(list(map(F_inv ,x)))     ,U))\n",
    "\n",
    "\n",
    "# estratifi\n",
    "estratificado = list(map(lambda ui,wi:  ui/wi, m, w))\n",
    "est = np.concatenate(estratificado).mean()\n",
    "\n",
    "print('b) Utilizando muestreo estratificado la media es de:', est)"
   ]
  },
  {
   "cell_type": "code",
   "execution_count": 5,
   "metadata": {},
   "outputs": [
    {
     "name": "stdout",
     "output_type": "stream",
     "text": [
      "c) Utilizando el metodo de los complementarios la media es de: 0.328356959166935\n"
     ]
    }
   ],
   "source": [
    "# Complementarios \n",
    "\n",
    "np.random.seed(717)\n",
    "u1 = np.random.rand(5)\n",
    "u2 = 1-u1\n",
    "uu = [u1,u1]\n",
    "\n",
    "j = list(map(lambda h:np.array(list(map(lambda hh: F_inv(hh)   ,h)))   ,uu))\n",
    "com = np.concatenate(j).mean()\n",
    "\n",
    "print('c) Utilizando el metodo de los complementarios la media es de:', com)"
   ]
  },
  {
   "cell_type": "code",
   "execution_count": 6,
   "metadata": {},
   "outputs": [],
   "source": [
    "def m_estratificado(N: 'Cantidad de terminos'):\n",
    "    \n",
    "    return (np.random.rand(N) + np.arange(0, N))/ N"
   ]
  },
  {
   "cell_type": "code",
   "execution_count": 7,
   "metadata": {},
   "outputs": [
    {
     "name": "stdout",
     "output_type": "stream",
     "text": [
      "d) Con 2,4,6 y 10 estratos la media es de: [0.09856071034382613, 0.018684369093215136, -0.02474644173491915, -0.0031487062674997236]\n"
     ]
    }
   ],
   "source": [
    "np.random.seed(717)\n",
    "\n",
    "B = [2, 4, 6, 10]\n",
    "\n",
    "b = list(map(lambda x: m_estratificado(x)  ,B))\n",
    "\n",
    "bb = list(map(lambda z: np.array(list(map(lambda zz: F_inv(zz)  ,z)))   ,b))\n",
    "\n",
    "estrats = [bb[i].mean() for i in range(len(bb))]\n",
    "\n",
    "print('d) Con 2,4,6 y 10 estratos la media es de:', estrats)"
   ]
  },
  {
   "cell_type": "markdown",
   "metadata": {},
   "source": [
    " - Podemos observar que el método más cercano a una media cero es el método estratificado"
   ]
  },
  {
   "cell_type": "code",
   "execution_count": null,
   "metadata": {},
   "outputs": [],
   "source": []
  }
 ],
 "metadata": {
  "kernelspec": {
   "display_name": "Python 3",
   "language": "python",
   "name": "python3"
  },
  "language_info": {
   "codemirror_mode": {
    "name": "ipython",
    "version": 3
   },
   "file_extension": ".py",
   "mimetype": "text/x-python",
   "name": "python",
   "nbconvert_exporter": "python",
   "pygments_lexer": "ipython3",
   "version": "3.8.3"
  }
 },
 "nbformat": 4,
 "nbformat_minor": 2
}
